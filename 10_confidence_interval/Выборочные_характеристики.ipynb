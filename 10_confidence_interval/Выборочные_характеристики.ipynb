{
  "nbformat": 4,
  "nbformat_minor": 0,
  "metadata": {
    "colab": {
      "provenance": []
    },
    "kernelspec": {
      "name": "python3",
      "display_name": "Python 3"
    },
    "language_info": {
      "name": "python"
    }
  },
  "cells": [
    {
      "cell_type": "code",
      "execution_count": null,
      "metadata": {
        "id": "NX9VnTL3-25i"
      },
      "outputs": [],
      "source": [
        "import pandas as pd\n",
        "import numpy as np\n",
        "import matplotlib.pyplot as plt\n",
        "import scipy.stats as sts\n",
        "from statsmodels.distributions.empirical_distribution import ECDF\n",
        "\n",
        "%matplotlib inline"
      ]
    },
    {
      "cell_type": "code",
      "source": [
        "df = pd.read_csv(\"./world-population-by-country-2020.csv\")"
      ],
      "metadata": {
        "id": "qCLabXPrrrVw"
      },
      "execution_count": null,
      "outputs": []
    },
    {
      "cell_type": "code",
      "source": [
        "df.shape"
      ],
      "metadata": {
        "colab": {
          "base_uri": "https://localhost:8080/"
        },
        "id": "FCVqMm8ICRHO",
        "outputId": "4648692e-c48d-4544-e4b2-edbb6c9447e6"
      },
      "execution_count": null,
      "outputs": [
        {
          "output_type": "execute_result",
          "data": {
            "text/plain": [
              "(235, 12)"
            ]
          },
          "metadata": {},
          "execution_count": 3
        }
      ]
    },
    {
      "cell_type": "code",
      "source": [
        "df.head()"
      ],
      "metadata": {
        "colab": {
          "base_uri": "https://localhost:8080/",
          "height": 204
        },
        "id": "n4wn-xBF_GyB",
        "outputId": "77d38c15-883a-4620-d7bb-bddd6cb307b6"
      },
      "execution_count": null,
      "outputs": [
        {
          "output_type": "execute_result",
          "data": {
            "text/plain": [
              "   no Country (or dependency) Population 2020 Yearly Change  Net Change  \\\n",
              "0   1                   China   1,439,323,776         0.39%   5,540,090   \n",
              "1   2                   India   1,380,004,385         0.99%  13,586,631   \n",
              "2   3           United States     331,002,651         0.59%   1,937,734   \n",
              "3   4               Indonesia     273,523,615         1.07%   2,898,047   \n",
              "4   5                Pakistan     220,892,340         2.00%   4,327,022   \n",
              "\n",
              "  Density  (P/Km²) Land Area (Km²) Migrants (net) Fert. Rate Med. Age  \\\n",
              "0              153       9,388,211       -348,399        1.7       38   \n",
              "1              464       2,973,190       -532,687        2.2       28   \n",
              "2               36       9,147,420        954,806        1.8       38   \n",
              "3              151       1,811,570        -98,955        2.3       30   \n",
              "4              287         770,880       -233,379        3.6       23   \n",
              "\n",
              "  Urban Pop % World Share  \n",
              "0         61%      18.47%  \n",
              "1         35%      17.70%  \n",
              "2         83%       4.25%  \n",
              "3         56%       3.51%  \n",
              "4         35%       2.83%  "
            ],
            "text/html": [
              "\n",
              "  <div id=\"df-57873324-c634-4536-986f-83f31a420433\">\n",
              "    <div class=\"colab-df-container\">\n",
              "      <div>\n",
              "<style scoped>\n",
              "    .dataframe tbody tr th:only-of-type {\n",
              "        vertical-align: middle;\n",
              "    }\n",
              "\n",
              "    .dataframe tbody tr th {\n",
              "        vertical-align: top;\n",
              "    }\n",
              "\n",
              "    .dataframe thead th {\n",
              "        text-align: right;\n",
              "    }\n",
              "</style>\n",
              "<table border=\"1\" class=\"dataframe\">\n",
              "  <thead>\n",
              "    <tr style=\"text-align: right;\">\n",
              "      <th></th>\n",
              "      <th>no</th>\n",
              "      <th>Country (or dependency)</th>\n",
              "      <th>Population 2020</th>\n",
              "      <th>Yearly Change</th>\n",
              "      <th>Net Change</th>\n",
              "      <th>Density  (P/Km²)</th>\n",
              "      <th>Land Area (Km²)</th>\n",
              "      <th>Migrants (net)</th>\n",
              "      <th>Fert. Rate</th>\n",
              "      <th>Med. Age</th>\n",
              "      <th>Urban Pop %</th>\n",
              "      <th>World Share</th>\n",
              "    </tr>\n",
              "  </thead>\n",
              "  <tbody>\n",
              "    <tr>\n",
              "      <th>0</th>\n",
              "      <td>1</td>\n",
              "      <td>China</td>\n",
              "      <td>1,439,323,776</td>\n",
              "      <td>0.39%</td>\n",
              "      <td>5,540,090</td>\n",
              "      <td>153</td>\n",
              "      <td>9,388,211</td>\n",
              "      <td>-348,399</td>\n",
              "      <td>1.7</td>\n",
              "      <td>38</td>\n",
              "      <td>61%</td>\n",
              "      <td>18.47%</td>\n",
              "    </tr>\n",
              "    <tr>\n",
              "      <th>1</th>\n",
              "      <td>2</td>\n",
              "      <td>India</td>\n",
              "      <td>1,380,004,385</td>\n",
              "      <td>0.99%</td>\n",
              "      <td>13,586,631</td>\n",
              "      <td>464</td>\n",
              "      <td>2,973,190</td>\n",
              "      <td>-532,687</td>\n",
              "      <td>2.2</td>\n",
              "      <td>28</td>\n",
              "      <td>35%</td>\n",
              "      <td>17.70%</td>\n",
              "    </tr>\n",
              "    <tr>\n",
              "      <th>2</th>\n",
              "      <td>3</td>\n",
              "      <td>United States</td>\n",
              "      <td>331,002,651</td>\n",
              "      <td>0.59%</td>\n",
              "      <td>1,937,734</td>\n",
              "      <td>36</td>\n",
              "      <td>9,147,420</td>\n",
              "      <td>954,806</td>\n",
              "      <td>1.8</td>\n",
              "      <td>38</td>\n",
              "      <td>83%</td>\n",
              "      <td>4.25%</td>\n",
              "    </tr>\n",
              "    <tr>\n",
              "      <th>3</th>\n",
              "      <td>4</td>\n",
              "      <td>Indonesia</td>\n",
              "      <td>273,523,615</td>\n",
              "      <td>1.07%</td>\n",
              "      <td>2,898,047</td>\n",
              "      <td>151</td>\n",
              "      <td>1,811,570</td>\n",
              "      <td>-98,955</td>\n",
              "      <td>2.3</td>\n",
              "      <td>30</td>\n",
              "      <td>56%</td>\n",
              "      <td>3.51%</td>\n",
              "    </tr>\n",
              "    <tr>\n",
              "      <th>4</th>\n",
              "      <td>5</td>\n",
              "      <td>Pakistan</td>\n",
              "      <td>220,892,340</td>\n",
              "      <td>2.00%</td>\n",
              "      <td>4,327,022</td>\n",
              "      <td>287</td>\n",
              "      <td>770,880</td>\n",
              "      <td>-233,379</td>\n",
              "      <td>3.6</td>\n",
              "      <td>23</td>\n",
              "      <td>35%</td>\n",
              "      <td>2.83%</td>\n",
              "    </tr>\n",
              "  </tbody>\n",
              "</table>\n",
              "</div>\n",
              "      <button class=\"colab-df-convert\" onclick=\"convertToInteractive('df-57873324-c634-4536-986f-83f31a420433')\"\n",
              "              title=\"Convert this dataframe to an interactive table.\"\n",
              "              style=\"display:none;\">\n",
              "        \n",
              "  <svg xmlns=\"http://www.w3.org/2000/svg\" height=\"24px\"viewBox=\"0 0 24 24\"\n",
              "       width=\"24px\">\n",
              "    <path d=\"M0 0h24v24H0V0z\" fill=\"none\"/>\n",
              "    <path d=\"M18.56 5.44l.94 2.06.94-2.06 2.06-.94-2.06-.94-.94-2.06-.94 2.06-2.06.94zm-11 1L8.5 8.5l.94-2.06 2.06-.94-2.06-.94L8.5 2.5l-.94 2.06-2.06.94zm10 10l.94 2.06.94-2.06 2.06-.94-2.06-.94-.94-2.06-.94 2.06-2.06.94z\"/><path d=\"M17.41 7.96l-1.37-1.37c-.4-.4-.92-.59-1.43-.59-.52 0-1.04.2-1.43.59L10.3 9.45l-7.72 7.72c-.78.78-.78 2.05 0 2.83L4 21.41c.39.39.9.59 1.41.59.51 0 1.02-.2 1.41-.59l7.78-7.78 2.81-2.81c.8-.78.8-2.07 0-2.86zM5.41 20L4 18.59l7.72-7.72 1.47 1.35L5.41 20z\"/>\n",
              "  </svg>\n",
              "      </button>\n",
              "      \n",
              "  <style>\n",
              "    .colab-df-container {\n",
              "      display:flex;\n",
              "      flex-wrap:wrap;\n",
              "      gap: 12px;\n",
              "    }\n",
              "\n",
              "    .colab-df-convert {\n",
              "      background-color: #E8F0FE;\n",
              "      border: none;\n",
              "      border-radius: 50%;\n",
              "      cursor: pointer;\n",
              "      display: none;\n",
              "      fill: #1967D2;\n",
              "      height: 32px;\n",
              "      padding: 0 0 0 0;\n",
              "      width: 32px;\n",
              "    }\n",
              "\n",
              "    .colab-df-convert:hover {\n",
              "      background-color: #E2EBFA;\n",
              "      box-shadow: 0px 1px 2px rgba(60, 64, 67, 0.3), 0px 1px 3px 1px rgba(60, 64, 67, 0.15);\n",
              "      fill: #174EA6;\n",
              "    }\n",
              "\n",
              "    [theme=dark] .colab-df-convert {\n",
              "      background-color: #3B4455;\n",
              "      fill: #D2E3FC;\n",
              "    }\n",
              "\n",
              "    [theme=dark] .colab-df-convert:hover {\n",
              "      background-color: #434B5C;\n",
              "      box-shadow: 0px 1px 3px 1px rgba(0, 0, 0, 0.15);\n",
              "      filter: drop-shadow(0px 1px 2px rgba(0, 0, 0, 0.3));\n",
              "      fill: #FFFFFF;\n",
              "    }\n",
              "  </style>\n",
              "\n",
              "      <script>\n",
              "        const buttonEl =\n",
              "          document.querySelector('#df-57873324-c634-4536-986f-83f31a420433 button.colab-df-convert');\n",
              "        buttonEl.style.display =\n",
              "          google.colab.kernel.accessAllowed ? 'block' : 'none';\n",
              "\n",
              "        async function convertToInteractive(key) {\n",
              "          const element = document.querySelector('#df-57873324-c634-4536-986f-83f31a420433');\n",
              "          const dataTable =\n",
              "            await google.colab.kernel.invokeFunction('convertToInteractive',\n",
              "                                                     [key], {});\n",
              "          if (!dataTable) return;\n",
              "\n",
              "          const docLinkHtml = 'Like what you see? Visit the ' +\n",
              "            '<a target=\"_blank\" href=https://colab.research.google.com/notebooks/data_table.ipynb>data table notebook</a>'\n",
              "            + ' to learn more about interactive tables.';\n",
              "          element.innerHTML = '';\n",
              "          dataTable['output_type'] = 'display_data';\n",
              "          await google.colab.output.renderOutput(dataTable, element);\n",
              "          const docLink = document.createElement('div');\n",
              "          docLink.innerHTML = docLinkHtml;\n",
              "          element.appendChild(docLink);\n",
              "        }\n",
              "      </script>\n",
              "    </div>\n",
              "  </div>\n",
              "  "
            ]
          },
          "metadata": {},
          "execution_count": 4
        }
      ]
    },
    {
      "cell_type": "code",
      "source": [
        "df.info()"
      ],
      "metadata": {
        "colab": {
          "base_uri": "https://localhost:8080/"
        },
        "id": "BwtcnsDmAfTN",
        "outputId": "46b75859-78f9-4c01-f605-748ad814c8a8"
      },
      "execution_count": null,
      "outputs": [
        {
          "output_type": "stream",
          "name": "stdout",
          "text": [
            "<class 'pandas.core.frame.DataFrame'>\n",
            "RangeIndex: 235 entries, 0 to 234\n",
            "Data columns (total 12 columns):\n",
            " #   Column                   Non-Null Count  Dtype \n",
            "---  ------                   --------------  ----- \n",
            " 0   no                       235 non-null    int64 \n",
            " 1   Country (or dependency)  235 non-null    object\n",
            " 2   Population 2020          235 non-null    object\n",
            " 3   Yearly Change            235 non-null    object\n",
            " 4   Net Change               235 non-null    object\n",
            " 5   Density  (P/Km²)         235 non-null    object\n",
            " 6   Land Area (Km²)          235 non-null    object\n",
            " 7   Migrants (net)           201 non-null    object\n",
            " 8   Fert. Rate               235 non-null    object\n",
            " 9   Med. Age                 235 non-null    object\n",
            " 10  Urban Pop %              235 non-null    object\n",
            " 11  World Share              235 non-null    object\n",
            "dtypes: int64(1), object(11)\n",
            "memory usage: 22.2+ KB\n"
          ]
        }
      ]
    },
    {
      "cell_type": "markdown",
      "source": [
        "Заменим в столбце 'Density  (P/Km²)' тип с 'object' на 'int64'. Но сначала уберём запятые, которые не дадут сменить тип"
      ],
      "metadata": {
        "id": "Ec5CS98KWUHu"
      }
    },
    {
      "cell_type": "code",
      "source": [
        "df['Density (P/Km²)'] = df['Density  (P/Km²)'].replace(',','', regex=True).sort_values(ascending=True).astype(int).astype(str)"
      ],
      "metadata": {
        "id": "gkDgDdK6T2nP"
      },
      "execution_count": null,
      "outputs": []
    },
    {
      "cell_type": "code",
      "source": [
        "df['Density (P/Km²)'] = df['Density (P/Km²)'].astype(int)"
      ],
      "metadata": {
        "id": "qy8q75_dJU_N"
      },
      "execution_count": null,
      "outputs": []
    },
    {
      "cell_type": "code",
      "source": [
        "df['Density (P/Km²)'].dtype"
      ],
      "metadata": {
        "colab": {
          "base_uri": "https://localhost:8080/"
        },
        "id": "NUGxE2SPWKUw",
        "outputId": "da92da7c-d02a-4ca7-bbba-17458d6daf8f"
      },
      "execution_count": null,
      "outputs": [
        {
          "output_type": "execute_result",
          "data": {
            "text/plain": [
              "dtype('int64')"
            ]
          },
          "metadata": {},
          "execution_count": 8
        }
      ]
    },
    {
      "cell_type": "markdown",
      "source": [
        "**Вычислим выборочное среднее**"
      ],
      "metadata": {
        "id": "jtNeZuZDl2Du"
      }
    },
    {
      "cell_type": "code",
      "source": [
        "sample_mean = df['Density (P/Km²)'].mean()\n",
        "sample_mean"
      ],
      "metadata": {
        "colab": {
          "base_uri": "https://localhost:8080/"
        },
        "id": "VRwnWEHjiFrv",
        "outputId": "f99ecd28-09ec-429c-a199-87645a0a1f2f"
      },
      "execution_count": null,
      "outputs": [
        {
          "output_type": "execute_result",
          "data": {
            "text/plain": [
              "478.40851063829786"
            ]
          },
          "metadata": {},
          "execution_count": 9
        }
      ]
    },
    {
      "cell_type": "markdown",
      "source": [
        "Перепроверим себя, вычислив по другому"
      ],
      "metadata": {
        "id": "gPRX7-VLnqqE"
      }
    },
    {
      "cell_type": "code",
      "source": [
        "df['Density (P/Km²)'].shape[0]"
      ],
      "metadata": {
        "colab": {
          "base_uri": "https://localhost:8080/"
        },
        "id": "0nYGWyx3nEXo",
        "outputId": "505d77f5-73d4-4c24-83a7-92bf3a64984b"
      },
      "execution_count": null,
      "outputs": [
        {
          "output_type": "execute_result",
          "data": {
            "text/plain": [
              "235"
            ]
          },
          "metadata": {},
          "execution_count": 10
        }
      ]
    },
    {
      "cell_type": "code",
      "source": [
        "df['Density (P/Km²)'].sum()/df['Density (P/Km²)'].shape[0]"
      ],
      "metadata": {
        "colab": {
          "base_uri": "https://localhost:8080/"
        },
        "id": "IEv0zauYnVwq",
        "outputId": "90ff268e-aa1d-476a-9a7f-f6ff5ba4ebe9"
      },
      "execution_count": null,
      "outputs": [
        {
          "output_type": "execute_result",
          "data": {
            "text/plain": [
              "478.40851063829786"
            ]
          },
          "metadata": {},
          "execution_count": 11
        }
      ]
    },
    {
      "cell_type": "markdown",
      "source": [
        "**Вычислим выборочную дисперсию**"
      ],
      "metadata": {
        "id": "T2B2asS5n56C"
      }
    },
    {
      "cell_type": "code",
      "source": [
        "simple_variance = df['Density (P/Km²)'].var()\n",
        "simple_variance"
      ],
      "metadata": {
        "colab": {
          "base_uri": "https://localhost:8080/"
        },
        "id": "lEgrvW9GoE_t",
        "outputId": "837a996c-fc73-4466-d472-7c272a82646a"
      },
      "execution_count": null,
      "outputs": [
        {
          "output_type": "execute_result",
          "data": {
            "text/plain": [
              "5434877.738388797"
            ]
          },
          "metadata": {},
          "execution_count": 12
        }
      ]
    },
    {
      "cell_type": "markdown",
      "source": [
        "Перепроверим себя, вычислив по другому"
      ],
      "metadata": {
        "id": "gPPYO_hXoXHZ"
      }
    },
    {
      "cell_type": "code",
      "source": [
        "((df['Density (P/Km²)'] - sample_mean)**2).sum()/df['Density (P/Km²)'].shape[0]"
      ],
      "metadata": {
        "colab": {
          "base_uri": "https://localhost:8080/"
        },
        "id": "AD8aZJP1oarL",
        "outputId": "5c2a9133-6b23-4b44-d127-420ca5344ba3"
      },
      "execution_count": null,
      "outputs": [
        {
          "output_type": "execute_result",
          "data": {
            "text/plain": [
              "5411750.599076505"
            ]
          },
          "metadata": {},
          "execution_count": 13
        }
      ]
    },
    {
      "cell_type": "markdown",
      "source": [
        "Как видим, встроенная функция var() вычисляет несмещенную дисперсию, поэтому и мы сделаем так же, вычтив 1 из n в знаменателе"
      ],
      "metadata": {
        "id": "tCj4yunrphYC"
      }
    },
    {
      "cell_type": "code",
      "source": [
        "((df['Density (P/Km²)'] - sample_mean)**2).sum()/(df['Density (P/Km²)'].count() - 1)"
      ],
      "metadata": {
        "colab": {
          "base_uri": "https://localhost:8080/"
        },
        "id": "TSLcUFcOpWwo",
        "outputId": "d4e953b6-b7c5-4e7b-d8b5-e8f3c306b5c5"
      },
      "execution_count": null,
      "outputs": [
        {
          "output_type": "execute_result",
          "data": {
            "text/plain": [
              "5434877.738388797"
            ]
          },
          "metadata": {},
          "execution_count": 14
        }
      ]
    },
    {
      "cell_type": "markdown",
      "source": [
        "**Вычислим выборочный квантиль уровня альфа**"
      ],
      "metadata": {
        "id": "QBFnrTTbySVQ"
      }
    },
    {
      "cell_type": "markdown",
      "source": [
        "Преобразуем нашу выборку в список для представления вариацинного ряда выборки"
      ],
      "metadata": {
        "id": "1qcWYh7Zug--"
      }
    },
    {
      "cell_type": "code",
      "source": [
        "variation_series = list(df['Density (P/Km²)'])\n",
        "variation_series.sort()"
      ],
      "metadata": {
        "id": "D1EJSkMcqBas"
      },
      "execution_count": null,
      "outputs": []
    },
    {
      "cell_type": "markdown",
      "source": [
        "Теперь вычислим выборочную квантиль уровня альфа"
      ],
      "metadata": {
        "id": "UfcLhFj0709h"
      }
    },
    {
      "cell_type": "code",
      "source": [
        "alpha = 0.9\n",
        "n = df['Density (P/Km²)'].shape[0]\n",
        "element_of_variation_series = (n * alpha) + 1\n",
        "el = round(element_of_variation_series)\n",
        "sample_quantile = variation_series[el-1]\n",
        "sample_quantile"
      ],
      "metadata": {
        "colab": {
          "base_uri": "https://localhost:8080/"
        },
        "id": "gGOs9G-EuILZ",
        "outputId": "39e2138f-88fb-4404-faf3-af4479ebab37"
      },
      "execution_count": null,
      "outputs": [
        {
          "output_type": "execute_result",
          "data": {
            "text/plain": [
              "541"
            ]
          },
          "metadata": {},
          "execution_count": 18
        }
      ]
    },
    {
      "cell_type": "markdown",
      "source": [
        "**График выборочной функции распределения**"
      ],
      "metadata": {
        "id": "aatWtvEACPUN"
      }
    },
    {
      "cell_type": "code",
      "source": [
        "norm_rv = sts.norm(0, 1)\n",
        "sample = norm_rv.rvs(235)"
      ],
      "metadata": {
        "id": "6b5411eJ0phZ"
      },
      "execution_count": null,
      "outputs": []
    },
    {
      "cell_type": "code",
      "source": [
        "plt.figure(figsize = (18, 8))\n",
        "x = np.linspace(0,25000,235)\n",
        "cdf = norm_rv.cdf(x)\n",
        "plt.plot(x, cdf, label='Theoretical CDF')\n",
        "\n",
        "ecdf = ECDF(df['Density (P/Km²)'])\n",
        "plt.step(ecdf.x, ecdf.y, label='ECDF')\n",
        "plt.ylabel('$f(x)$')\n",
        "plt.xlabel('$x$')\n",
        "plt.legend(loc='lower right')"
      ],
      "metadata": {
        "colab": {
          "base_uri": "https://localhost:8080/",
          "height": 514
        },
        "id": "kGh-EyuhCT3T",
        "outputId": "1bd284f4-303f-49f9-b277-277ebadb465b"
      },
      "execution_count": null,
      "outputs": [
        {
          "output_type": "execute_result",
          "data": {
            "text/plain": [
              "<matplotlib.legend.Legend at 0x7f938e5728e0>"
            ]
          },
          "metadata": {},
          "execution_count": 92
        },
        {
          "output_type": "display_data",
          "data": {
            "text/plain": [
              "<Figure size 1296x576 with 1 Axes>"
            ],
            "image/png": "[encoded data removed]"
          },
          "metadata": {
            "needs_background": "light"
          }
        }
      ]
    },
    {
      "cell_type": "markdown",
      "source": [
        "**Гистограмма**"
      ],
      "metadata": {
        "id": "xSSW3-isBwKV"
      }
    },
    {
      "cell_type": "code",
      "source": [
        "plt.figure(figsize = (18, 8))\n",
        "df['Density (P/Km²)'].hist(bins=200, ec=\"black\", log=True)\n",
        "plt.ylabel('Count')\n",
        "plt.xlabel('Density')\n",
        "plt.title('Density (P/Km²) population by country')\n",
        "plt.show()"
      ],
      "metadata": {
        "colab": {
          "base_uri": "https://localhost:8080/",
          "height": 513
        },
        "id": "lH_n-pJGB5Wc",
        "outputId": "77ead8e2-0b86-4b17-84af-4341d0cfe3a0"
      },
      "execution_count": null,
      "outputs": [
        {
          "output_type": "display_data",
          "data": {
            "text/plain": [
              "<Figure size 1296x576 with 1 Axes>"
            ],
            "image/png": "[encoded data removed]"
          },
          "metadata": {
            "needs_background": "light"
          }
        }
      ]
    },
    {
      "cell_type": "markdown",
      "source": [
        "**Ядерная оценка плотности вероятности**"
      ],
      "metadata": {
        "id": "6fvsbBzrBzfv"
      }
    },
    {
      "cell_type": "code",
      "source": [
        "norm_rv = sts.expon(0, 25000)\n",
        "sample = norm_rv.rvs(235)\n",
        "plt.figure(figsize = (18, 8))\n",
        "data = pd.DataFrame(sample, columns=['KDE'])\n",
        "ax = data.plot(kind='density')\n",
        "\n",
        "x = np.linspace(0,27000,235)\n",
        "pdf = norm_rv.pdf(x)\n",
        "plt.plot(x, pdf, label='theoretical pdf', alpha=0.5)\n",
        "plt.legend()\n",
        "plt.ylabel('$f(x)$')\n",
        "plt.xlabel('$x$')"
      ],
      "metadata": {
        "colab": {
          "base_uri": "https://localhost:8080/",
          "height": 324
        },
        "id": "rvb1L4csB6PT",
        "outputId": "e08d6f9e-11e5-450b-9069-f96c5b18caf8"
      },
      "execution_count": null,
      "outputs": [
        {
          "output_type": "execute_result",
          "data": {
            "text/plain": [
              "Text(0.5, 0, '$x$')"
            ]
          },
          "metadata": {},
          "execution_count": 85
        },
        {
          "output_type": "display_data",
          "data": {
            "text/plain": [
              "<Figure size 1296x576 with 0 Axes>"
            ]
          },
          "metadata": {}
        },
        {
          "output_type": "display_data",
          "data": {
            "text/plain": [
              "<Figure size 432x288 with 1 Axes>"
            ],
            "image/png": "[encoded data removed]"
          },
          "metadata": {
            "needs_background": "light"
          }
        }
      ]
    },
    {
      "cell_type": "markdown",
      "source": [
        "**Доверительный интервал или интервальные оценки**"
      ],
      "metadata": {
        "id": "cseY7rP4B4Gx"
      }
    },
    {
      "cell_type": "code",
      "source": [
        "density_std = df['Density (P/Km²)'].std() \n",
        "density_std"
      ],
      "metadata": {
        "colab": {
          "base_uri": "https://localhost:8080/"
        },
        "id": "5o3pXKQ-x77v",
        "outputId": "d8aa14bb-62f7-48c1-ec2d-dcdd1b00732b"
      },
      "execution_count": null,
      "outputs": [
        {
          "output_type": "execute_result",
          "data": {
            "text/plain": [
              "2331.282423557643"
            ]
          },
          "metadata": {},
          "execution_count": 82
        }
      ]
    },
    {
      "cell_type": "code",
      "source": [
        "np.sqrt(simple_variance)"
      ],
      "metadata": {
        "colab": {
          "base_uri": "https://localhost:8080/"
        },
        "id": "Iz6dSRXdEj-0",
        "outputId": "2d94ad07-89b0-4218-fc79-56510cafba72"
      },
      "execution_count": null,
      "outputs": [
        {
          "output_type": "execute_result",
          "data": {
            "text/plain": [
              "2331.282423557643"
            ]
          },
          "metadata": {},
          "execution_count": 97
        }
      ]
    },
    {
      "cell_type": "markdown",
      "source": [
        "Вычислим двусторонний доверительный интервал для оценки математического ожидания с надежностью 0.9"
      ],
      "metadata": {
        "id": "HkPz3YfqBYY5"
      }
    },
    {
      "cell_type": "code",
      "source": [
        "(sample_mean - 1.645 * np.sqrt(simple_variance / df['Density (P/Km²)'].count()), sample_mean + 1.645 * np.sqrt(simple_variance / df['Density (P/Km²)'].count()))"
      ],
      "metadata": {
        "colab": {
          "base_uri": "https://localhost:8080/"
        },
        "id": "VrS7ejPf6C0m",
        "outputId": "a37d6167-343c-4013-d5ec-470b53d9957e"
      },
      "execution_count": null,
      "outputs": [
        {
          "output_type": "execute_result",
          "data": {
            "text/plain": [
              "(228.2433308919011, 728.5736903846946)"
            ]
          },
          "metadata": {},
          "execution_count": 95
        }
      ]
    },
    {
      "cell_type": "markdown",
      "source": [
        "либо через СКО"
      ],
      "metadata": {
        "id": "tS-0kli0Haqo"
      }
    },
    {
      "cell_type": "code",
      "source": [
        "(sample_mean - 1.645 * density_std / np.sqrt(df['Density (P/Km²)'].count()), sample_mean + 1.645 * density_std / np.sqrt(df['Density (P/Km²)'].count()))"
      ],
      "metadata": {
        "colab": {
          "base_uri": "https://localhost:8080/"
        },
        "id": "hA5D6Xa7E0rB",
        "outputId": "d2c2ab4d-26ac-48fd-c42a-1ef150d7875a"
      },
      "execution_count": null,
      "outputs": [
        {
          "output_type": "execute_result",
          "data": {
            "text/plain": [
              "(228.24333089190105, 728.5736903846946)"
            ]
          },
          "metadata": {},
          "execution_count": 100
        }
      ]
    },
    {
      "cell_type": "markdown",
      "source": [
        "Вычислим двусторонний доверительный интервал для оценки математического ожидания с надежностью 0.95"
      ],
      "metadata": {
        "id": "W9Il9wlkuBub"
      }
    },
    {
      "cell_type": "code",
      "source": [
        "(sample_mean - 1.96 * np.sqrt(simple_variance / df['Density (P/Km²)'].count()), sample_mean + 1.96 * np.sqrt(simple_variance / df['Density (P/Km²)'].count()))"
      ],
      "metadata": {
        "colab": {
          "base_uri": "https://localhost:8080/"
        },
        "id": "qGx9DWODCU8F",
        "outputId": "867224b9-eb7e-407d-c39b-ff5121fcbe2a"
      },
      "execution_count": null,
      "outputs": [
        {
          "output_type": "execute_result",
          "data": {
            "text/plain": [
              "(180.33936030216557, 776.4776609744301)"
            ]
          },
          "metadata": {},
          "execution_count": 96
        }
      ]
    },
    {
      "cell_type": "markdown",
      "source": [
        "Вычислим двусторонний доверительный интервал для оценки дисперсии с надежностью 0.9"
      ],
      "metadata": {
        "id": "Z3gwl0pEHmhs"
      }
    },
    {
      "cell_type": "code",
      "source": [
        "(simple_variance * (df['Density (P/Km²)'].count() - 1) / 182.034, simple_variance * (df['Density (P/Km²)'].count() - 1) / 270.684)"
      ],
      "metadata": {
        "colab": {
          "base_uri": "https://localhost:8080/"
        },
        "id": "wXanOMz7Hwov",
        "outputId": "dac937fc-a90c-47e6-e0e1-300a3ab13a3f"
      },
      "execution_count": null,
      "outputs": [
        {
          "output_type": "execute_result",
          "data": {
            "text/plain": [
              "(6986394.798680348, 4698324.950063463)"
            ]
          },
          "metadata": {},
          "execution_count": 104
        }
      ]
    },
    {
      "cell_type": "markdown",
      "source": [
        "Вычислим двусторонний доверительный интервал для оценки дисперсии с надежностью 0.95"
      ],
      "metadata": {
        "id": "2OhwlgHZM29N"
      }
    },
    {
      "cell_type": "code",
      "source": [
        "(simple_variance * (df['Density (P/Km²)'].count() - 1) / 193.524, simple_variance * (df['Density (P/Km²)'].count() - 1) / 278.262)"
      ],
      "metadata": {
        "colab": {
          "base_uri": "https://localhost:8080/"
        },
        "id": "4J7JrgESM4Ws",
        "outputId": "47988f69-63ed-4c11-ffac-2c7efa7a6ba1"
      },
      "execution_count": null,
      "outputs": [
        {
          "output_type": "execute_result",
          "data": {
            "text/plain": [
              "(6571595.206708101, 4570373.930982235)"
            ]
          },
          "metadata": {},
          "execution_count": 105
        }
      ]
    },
    {
      "cell_type": "markdown",
      "source": [
        "Вычислим односторонний доверительный интервал для оценки математического ожидания с надежностью 0.9"
      ],
      "metadata": {
        "id": "jWxLZDYdOoko"
      }
    },
    {
      "cell_type": "code",
      "source": [
        "(sample_mean - 1.282 * np.sqrt(simple_variance / df['Density (P/Km²)'].count()))"
      ],
      "metadata": {
        "colab": {
          "base_uri": "https://localhost:8080/"
        },
        "id": "aD8bwRDiOvk6",
        "outputId": "e7ea997f-d389-4016-8817-20849b046d53"
      },
      "execution_count": null,
      "outputs": [
        {
          "output_type": "execute_result",
          "data": {
            "text/plain": [
              "283.4469541429297"
            ]
          },
          "metadata": {},
          "execution_count": 106
        }
      ]
    },
    {
      "cell_type": "code",
      "source": [
        "(sample_mean + 1.283 * np.sqrt(simple_variance / df['Density (P/Km²)'].count()))"
      ],
      "metadata": {
        "colab": {
          "base_uri": "https://localhost:8080/"
        },
        "id": "BQQj1uDCQCW5",
        "outputId": "2bc13723-d3b8-4709-85d1-282cc4180c9e"
      },
      "execution_count": null,
      "outputs": [
        {
          "output_type": "execute_result",
          "data": {
            "text/plain": [
              "673.5221432307762"
            ]
          },
          "metadata": {},
          "execution_count": 107
        }
      ]
    },
    {
      "cell_type": "markdown",
      "source": [
        "Вычислим односторонний доверительный интервал для оценки математического ожидания с надежностью 0.95"
      ],
      "metadata": {
        "id": "RPBG0EYWQMB1"
      }
    },
    {
      "cell_type": "code",
      "source": [
        "(sample_mean - 1.645 * np.sqrt(simple_variance / df['Density (P/Km²)'].count()))"
      ],
      "metadata": {
        "colab": {
          "base_uri": "https://localhost:8080/"
        },
        "id": "oWgxlgOHQNeW",
        "outputId": "eae30910-6a1c-4cdb-c6fc-7c728a69e4cd"
      },
      "execution_count": null,
      "outputs": [
        {
          "output_type": "execute_result",
          "data": {
            "text/plain": [
              "228.2433308919011"
            ]
          },
          "metadata": {},
          "execution_count": 108
        }
      ]
    },
    {
      "cell_type": "code",
      "source": [
        "(sample_mean + 1.645 * np.sqrt(simple_variance / df['Density (P/Km²)'].count()))"
      ],
      "metadata": {
        "colab": {
          "base_uri": "https://localhost:8080/"
        },
        "id": "dLi1JGd5Qew3",
        "outputId": "f7f32f68-6d63-4b1d-9eb7-783315300b52"
      },
      "execution_count": null,
      "outputs": [
        {
          "output_type": "execute_result",
          "data": {
            "text/plain": [
              "728.5736903846946"
            ]
          },
          "metadata": {},
          "execution_count": 109
        }
      ]
    },
    {
      "cell_type": "markdown",
      "source": [
        "Вычислим односторонний доверительный интервал для оценки дисперсии с надежностью 0.9"
      ],
      "metadata": {
        "id": "9lOP0IlmQlgI"
      }
    },
    {
      "cell_type": "code",
      "source": [
        "(simple_variance * (df['Density (P/Km²)'].count() - 1) / 182.034)"
      ],
      "metadata": {
        "colab": {
          "base_uri": "https://localhost:8080/"
        },
        "id": "VC6THuvzQouz",
        "outputId": "24a9448b-0700-417d-9136-8043eaebdeb5"
      },
      "execution_count": null,
      "outputs": [
        {
          "output_type": "execute_result",
          "data": {
            "text/plain": [
              "6986394.798680348"
            ]
          },
          "metadata": {},
          "execution_count": 114
        }
      ]
    },
    {
      "cell_type": "code",
      "source": [
        "(simple_variance * (df['Density (P/Km²)'].count() - 1) / 262.117)"
      ],
      "metadata": {
        "colab": {
          "base_uri": "https://localhost:8080/"
        },
        "id": "dVn2zTAnQ6dv",
        "outputId": "5f9646b9-bbd0-49cf-9a1f-1330e6846bc7"
      },
      "execution_count": null,
      "outputs": [
        {
          "output_type": "execute_result",
          "data": {
            "text/plain": [
              "4851884.428644378"
            ]
          },
          "metadata": {},
          "execution_count": 115
        }
      ]
    },
    {
      "cell_type": "markdown",
      "source": [
        "Вычислим односторонний доверительный интервал для оценки дисперсии с надежностью 0.95"
      ],
      "metadata": {
        "id": "SblOeqnuSE3P"
      }
    },
    {
      "cell_type": "code",
      "source": [
        "(simple_variance * (df['Density (P/Km²)'].count() - 1) / 193.524)"
      ],
      "metadata": {
        "colab": {
          "base_uri": "https://localhost:8080/"
        },
        "id": "HgmiSIDxSGRx",
        "outputId": "73f9a63d-2634-4562-d352-176abb70d006"
      },
      "execution_count": null,
      "outputs": [
        {
          "output_type": "execute_result",
          "data": {
            "text/plain": [
              "6571595.206708101"
            ]
          },
          "metadata": {},
          "execution_count": 118
        }
      ]
    },
    {
      "cell_type": "code",
      "source": [
        "(simple_variance * (df['Density (P/Km²)'].count() - 1) / 270.684)"
      ],
      "metadata": {
        "colab": {
          "base_uri": "https://localhost:8080/"
        },
        "id": "I_29dQUhSpy_",
        "outputId": "698df2f5-99f7-4e95-f5fa-e344564d15b7"
      },
      "execution_count": null,
      "outputs": [
        {
          "output_type": "execute_result",
          "data": {
            "text/plain": [
              "4698324.950063463"
            ]
          },
          "metadata": {},
          "execution_count": 117
        }
      ]
    }
  ]
}